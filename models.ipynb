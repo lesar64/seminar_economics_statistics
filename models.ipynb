{
 "cells": [
  {
   "cell_type": "code",
   "execution_count": 91,
   "metadata": {},
   "outputs": [],
   "source": [
    "import pandas as pd\n",
    "import numpy as np\n",
    "from sklearn.model_selection import train_test_split, GridSearchCV\n",
    "from sklearn.ensemble import RandomForestClassifier, GradientBoostingClassifier\n",
    "from sklearn.metrics import classification_report, roc_curve, plot_roc_curve, f1_score\n",
    "from sklearn.linear_model import LogisticRegression\n",
    "from imblearn.ensemble import BalancedRandomForestClassifier\n",
    "import xgboost as xgb"
   ]
  },
  {
   "cell_type": "code",
   "execution_count": 2,
   "metadata": {
    "pycharm": {
     "name": "#%%\n"
    }
   },
   "outputs": [
    {
     "data": {
      "text/plain": "   Time        V1        V2        V3        V4        V5        V6        V7  \\\n0   0.0 -1.359807 -0.072781  2.536347  1.378155 -0.338321  0.462388  0.239599   \n1   0.0  1.191857  0.266151  0.166480  0.448154  0.060018 -0.082361 -0.078803   \n2   1.0 -1.358354 -1.340163  1.773209  0.379780 -0.503198  1.800499  0.791461   \n3   1.0 -0.966272 -0.185226  1.792993 -0.863291 -0.010309  1.247203  0.237609   \n4   2.0 -1.158233  0.877737  1.548718  0.403034 -0.407193  0.095921  0.592941   \n\n         V8        V9  ...       V21       V22       V23       V24       V25  \\\n0  0.098698  0.363787  ... -0.018307  0.277838 -0.110474  0.066928  0.128539   \n1  0.085102 -0.255425  ... -0.225775 -0.638672  0.101288 -0.339846  0.167170   \n2  0.247676 -1.514654  ...  0.247998  0.771679  0.909412 -0.689281 -0.327642   \n3  0.377436 -1.387024  ... -0.108300  0.005274 -0.190321 -1.175575  0.647376   \n4 -0.270533  0.817739  ... -0.009431  0.798278 -0.137458  0.141267 -0.206010   \n\n        V26       V27       V28  Amount  Class  \n0 -0.189115  0.133558 -0.021053  149.62      0  \n1  0.125895 -0.008983  0.014724    2.69      0  \n2 -0.139097 -0.055353 -0.059752  378.66      0  \n3 -0.221929  0.062723  0.061458  123.50      0  \n4  0.502292  0.219422  0.215153   69.99      0  \n\n[5 rows x 31 columns]",
      "text/html": "<div>\n<style scoped>\n    .dataframe tbody tr th:only-of-type {\n        vertical-align: middle;\n    }\n\n    .dataframe tbody tr th {\n        vertical-align: top;\n    }\n\n    .dataframe thead th {\n        text-align: right;\n    }\n</style>\n<table border=\"1\" class=\"dataframe\">\n  <thead>\n    <tr style=\"text-align: right;\">\n      <th></th>\n      <th>Time</th>\n      <th>V1</th>\n      <th>V2</th>\n      <th>V3</th>\n      <th>V4</th>\n      <th>V5</th>\n      <th>V6</th>\n      <th>V7</th>\n      <th>V8</th>\n      <th>V9</th>\n      <th>...</th>\n      <th>V21</th>\n      <th>V22</th>\n      <th>V23</th>\n      <th>V24</th>\n      <th>V25</th>\n      <th>V26</th>\n      <th>V27</th>\n      <th>V28</th>\n      <th>Amount</th>\n      <th>Class</th>\n    </tr>\n  </thead>\n  <tbody>\n    <tr>\n      <th>0</th>\n      <td>0.0</td>\n      <td>-1.359807</td>\n      <td>-0.072781</td>\n      <td>2.536347</td>\n      <td>1.378155</td>\n      <td>-0.338321</td>\n      <td>0.462388</td>\n      <td>0.239599</td>\n      <td>0.098698</td>\n      <td>0.363787</td>\n      <td>...</td>\n      <td>-0.018307</td>\n      <td>0.277838</td>\n      <td>-0.110474</td>\n      <td>0.066928</td>\n      <td>0.128539</td>\n      <td>-0.189115</td>\n      <td>0.133558</td>\n      <td>-0.021053</td>\n      <td>149.62</td>\n      <td>0</td>\n    </tr>\n    <tr>\n      <th>1</th>\n      <td>0.0</td>\n      <td>1.191857</td>\n      <td>0.266151</td>\n      <td>0.166480</td>\n      <td>0.448154</td>\n      <td>0.060018</td>\n      <td>-0.082361</td>\n      <td>-0.078803</td>\n      <td>0.085102</td>\n      <td>-0.255425</td>\n      <td>...</td>\n      <td>-0.225775</td>\n      <td>-0.638672</td>\n      <td>0.101288</td>\n      <td>-0.339846</td>\n      <td>0.167170</td>\n      <td>0.125895</td>\n      <td>-0.008983</td>\n      <td>0.014724</td>\n      <td>2.69</td>\n      <td>0</td>\n    </tr>\n    <tr>\n      <th>2</th>\n      <td>1.0</td>\n      <td>-1.358354</td>\n      <td>-1.340163</td>\n      <td>1.773209</td>\n      <td>0.379780</td>\n      <td>-0.503198</td>\n      <td>1.800499</td>\n      <td>0.791461</td>\n      <td>0.247676</td>\n      <td>-1.514654</td>\n      <td>...</td>\n      <td>0.247998</td>\n      <td>0.771679</td>\n      <td>0.909412</td>\n      <td>-0.689281</td>\n      <td>-0.327642</td>\n      <td>-0.139097</td>\n      <td>-0.055353</td>\n      <td>-0.059752</td>\n      <td>378.66</td>\n      <td>0</td>\n    </tr>\n    <tr>\n      <th>3</th>\n      <td>1.0</td>\n      <td>-0.966272</td>\n      <td>-0.185226</td>\n      <td>1.792993</td>\n      <td>-0.863291</td>\n      <td>-0.010309</td>\n      <td>1.247203</td>\n      <td>0.237609</td>\n      <td>0.377436</td>\n      <td>-1.387024</td>\n      <td>...</td>\n      <td>-0.108300</td>\n      <td>0.005274</td>\n      <td>-0.190321</td>\n      <td>-1.175575</td>\n      <td>0.647376</td>\n      <td>-0.221929</td>\n      <td>0.062723</td>\n      <td>0.061458</td>\n      <td>123.50</td>\n      <td>0</td>\n    </tr>\n    <tr>\n      <th>4</th>\n      <td>2.0</td>\n      <td>-1.158233</td>\n      <td>0.877737</td>\n      <td>1.548718</td>\n      <td>0.403034</td>\n      <td>-0.407193</td>\n      <td>0.095921</td>\n      <td>0.592941</td>\n      <td>-0.270533</td>\n      <td>0.817739</td>\n      <td>...</td>\n      <td>-0.009431</td>\n      <td>0.798278</td>\n      <td>-0.137458</td>\n      <td>0.141267</td>\n      <td>-0.206010</td>\n      <td>0.502292</td>\n      <td>0.219422</td>\n      <td>0.215153</td>\n      <td>69.99</td>\n      <td>0</td>\n    </tr>\n  </tbody>\n</table>\n<p>5 rows × 31 columns</p>\n</div>"
     },
     "execution_count": 2,
     "metadata": {},
     "output_type": "execute_result"
    }
   ],
   "source": [
    "df = pd.read_csv('creditcard.csv')\n",
    "# df = df.rename({'Class': 'fraud'}, axis=1)\n",
    "df.head()"
   ]
  },
  {
   "cell_type": "code",
   "execution_count": 3,
   "metadata": {
    "pycharm": {
     "name": "#%%\n"
    }
   },
   "outputs": [],
   "source": [
    "X = df.drop('Class', axis=1, inplace=False)\n",
    "y = df[['Class']]"
   ]
  },
  {
   "cell_type": "code",
   "execution_count": 90,
   "metadata": {
    "pycharm": {
     "name": "#%%\n"
    }
   },
   "outputs": [],
   "source": [
    "X_train, X_test, y_train, y_test = train_test_split(X, y, test_size=0.33, random_state=42, stratify=y)"
   ]
  },
  {
   "cell_type": "code",
   "execution_count": 5,
   "outputs": [],
   "source": [
    "gridsearch = False"
   ],
   "metadata": {
    "collapsed": false,
    "pycharm": {
     "name": "#%%\n"
    }
   }
  },
  {
   "cell_type": "markdown",
   "metadata": {
    "pycharm": {
     "name": "#%% md\n"
    }
   },
   "source": [
    "# Logistic Regression"
   ]
  },
  {
   "cell_type": "code",
   "execution_count": 6,
   "outputs": [
    {
     "name": "stdout",
     "output_type": "stream",
     "text": [
      "              precision    recall  f1-score   support\n",
      "\n",
      "           0       1.00      1.00      1.00     93838\n",
      "           1       0.87      0.63      0.73       149\n",
      "\n",
      "    accuracy                           1.00     93987\n",
      "   macro avg       0.93      0.82      0.87     93987\n",
      "weighted avg       1.00      1.00      1.00     93987\n",
      "\n"
     ]
    }
   ],
   "source": [
    "if gridsearch:\n",
    "    parameters_lr = {'penalty': ('l1', 'l2'), #, 'elasticnet', 'none'\n",
    "                     'max_iter': (10, 50, 100, 200), #\n",
    "                     'solver': ['saga', 'liblinear'], #\n",
    "                     # 'l1_ratio': [0.5]\n",
    "                     }\n",
    "    lr = GridSearchCV(\n",
    "        LogisticRegression(random_state=42),\n",
    "        parameters_lr,\n",
    "        n_jobs=-1,\n",
    "        scoring='f1',\n",
    "        verbose=2,\n",
    "        cv=2\n",
    "        )\n",
    "else:\n",
    "    lr = LogisticRegression(random_state=42,\n",
    "                            penalty='l1', #\n",
    "                            max_iter=50, # 100\n",
    "                            solver='liblinear'\n",
    "                            )\n",
    "\n",
    "lr.fit(X_train, y_train.values.ravel())\n",
    "\n",
    "if gridsearch:\n",
    "    print(lr.best_params_)\n",
    "\n",
    "y_pred_lr = lr.predict(X_test)\n",
    "print(classification_report(y_test, y_pred_lr))"
   ],
   "metadata": {
    "collapsed": false,
    "pycharm": {
     "name": "#%%\n"
    }
   }
  },
  {
   "cell_type": "code",
   "execution_count": 71,
   "outputs": [
    {
     "name": "stdout",
     "output_type": "stream",
     "text": [
      "0.11\n",
      "              precision    recall  f1-score   support\n",
      "\n",
      "           0       1.00      1.00      1.00     93838\n",
      "           1       0.80      0.79      0.79       149\n",
      "\n",
      "    accuracy                           1.00     93987\n",
      "   macro avg       0.90      0.89      0.90     93987\n",
      "weighted avg       1.00      1.00      1.00     93987\n",
      "\n"
     ]
    }
   ],
   "source": [
    "# Get prediction probability\n",
    "y_pred_prob_lr = lr.predict_proba(X_test)\n",
    "\n",
    "# Make Dataframe to .map\n",
    "y_pred_lr_treshold = pd.DataFrame(data=y_pred_prob_lr[:,1], columns=['pred'])\n",
    "\n",
    "# Find optimal threshold based on f1 score\n",
    "max_score = 0\n",
    "threshold = 0\n",
    "for i in np.linspace(0,1,101):\n",
    "    y_pred_lr_treshold_temp = y_pred_lr_treshold['pred'].map(lambda x: 1 if x > i else 0)\n",
    "    if f1_score(y_test, y_pred_lr_treshold_temp) > max_score:\n",
    "        threshold = i\n",
    "        max_score = f1_score(y_test, y_pred_lr_treshold_temp)\n",
    "        y_pred_lr_treshold_final = y_pred_lr_treshold_temp\n",
    "\n",
    "print(threshold)\n",
    "print(classification_report(y_test, y_pred_lr_treshold_final))"
   ],
   "metadata": {
    "collapsed": false,
    "pycharm": {
     "name": "#%%\n"
    }
   }
  },
  {
   "cell_type": "markdown",
   "source": [
    "# Random Forest"
   ],
   "metadata": {
    "collapsed": false,
    "pycharm": {
     "name": "#%% md\n"
    }
   }
  },
  {
   "cell_type": "code",
   "execution_count": 124,
   "metadata": {
    "pycharm": {
     "name": "#%%\n"
    }
   },
   "outputs": [
    {
     "name": "stdout",
     "output_type": "stream",
     "text": [
      "              precision    recall  f1-score   support\n",
      "\n",
      "           0       1.00      1.00      1.00     93838\n",
      "           1       0.89      0.81      0.85       149\n",
      "\n",
      "    accuracy                           1.00     93987\n",
      "   macro avg       0.94      0.91      0.92     93987\n",
      "weighted avg       1.00      1.00      1.00     93987\n",
      "\n"
     ]
    }
   ],
   "source": [
    "if gridsearch:\n",
    "    parameters_rf = {'n_estimators': (3, 5, 20, 100), #\n",
    "                     'max_depth': (10, 50, 200), #\n",
    "                     }\n",
    "    rf = GridSearchCV(\n",
    "        RandomForestClassifier(random_state=42),\n",
    "        parameters_rf,\n",
    "        n_jobs=-1,\n",
    "        scoring='f1',\n",
    "        verbose=2,\n",
    "        cv=2\n",
    "        )\n",
    "else:\n",
    "    rf = RandomForestClassifier(random_state=42,\n",
    "                                n_estimators=5, # 5\n",
    "                                max_depth=50, # 50\n",
    "                                )\n",
    "\n",
    "rf.fit(X_train, y_train.values.ravel())\n",
    "\n",
    "if gridsearch:\n",
    "    print(rf.best_params_)\n",
    "\n",
    "y_pred_rf = rf.predict(X_test)\n",
    "print(classification_report(y_test, y_pred_rf))"
   ]
  },
  {
   "cell_type": "markdown",
   "metadata": {},
   "source": [
    "# Weighted Random Forest"
   ]
  },
  {
   "cell_type": "code",
   "execution_count": 125,
   "metadata": {
    "pycharm": {
     "name": "#%%\n"
    }
   },
   "outputs": [
    {
     "name": "stdout",
     "output_type": "stream",
     "text": [
      "              precision    recall  f1-score   support\n",
      "\n",
      "           0       1.00      1.00      1.00     93838\n",
      "           1       0.96      0.79      0.87       149\n",
      "\n",
      "    accuracy                           1.00     93987\n",
      "   macro avg       0.98      0.90      0.93     93987\n",
      "weighted avg       1.00      1.00      1.00     93987\n",
      "\n"
     ]
    }
   ],
   "source": [
    "if gridsearch:\n",
    "    parameters_wrf = {'n_estimators': (100, 200, 400), # 5, 20, 100\n",
    "                     'max_depth': (50, 100), # 10, 50, 200\n",
    "                     }\n",
    "    wrf = GridSearchCV(\n",
    "        RandomForestClassifier(random_state=42, class_weight='balanced'),\n",
    "        parameters_wrf,\n",
    "        n_jobs=-1,\n",
    "        scoring='f1',\n",
    "        verbose=2,\n",
    "        cv=2\n",
    "        )\n",
    "else:\n",
    "    wrf = RandomForestClassifier(random_state=42,\n",
    "                                 class_weight='balanced',\n",
    "                                 n_estimators=100, # 200\n",
    "                                 max_depth=100, # 50\n",
    "                                 )\n",
    "\n",
    "wrf.fit(X_train, y_train.values.ravel())\n",
    "\n",
    "if gridsearch:\n",
    "    print(wrf.best_params_)\n",
    "\n",
    "y_pred_wrf = wrf.predict(X_test)\n",
    "print(classification_report(y_test, y_pred_wrf))"
   ]
  },
  {
   "cell_type": "markdown",
   "metadata": {},
   "source": [
    "# Balanced Random Forest"
   ]
  },
  {
   "cell_type": "code",
   "execution_count": 126,
   "metadata": {},
   "outputs": [
    {
     "name": "stdout",
     "output_type": "stream",
     "text": [
      "              precision    recall  f1-score   support\n",
      "\n",
      "           0       1.00      1.00      1.00     93838\n",
      "           1       0.95      0.83      0.88       149\n",
      "\n",
      "    accuracy                           1.00     93987\n",
      "   macro avg       0.98      0.91      0.94     93987\n",
      "weighted avg       1.00      1.00      1.00     93987\n",
      "\n"
     ]
    }
   ],
   "source": [
    "if gridsearch:\n",
    "    parameters_brf = {'n_estimators': (5, 50, 100), # 5, 20, 100\n",
    "                     'max_depth': (1, 2, 3, 5), # 10, 50, 200\n",
    "                     }\n",
    "    brf = GridSearchCV(\n",
    "        BalancedRandomForestClassifier(random_state=42, sampling_strategy='not minority'),\n",
    "        parameters_brf,\n",
    "        n_jobs=-1,\n",
    "        scoring='f1',\n",
    "        verbose=2,\n",
    "        cv=2\n",
    "        )\n",
    "else:\n",
    "    brf = BalancedRandomForestClassifier(random_state=42,\n",
    "                                         sampling_strategy='not majority',\n",
    "                                         n_estimators=100, # 100\n",
    "                                         criterion='entropy',\n",
    "                                         max_depth=50, # 50\n",
    "                                         )\n",
    "\n",
    "brf.fit(X_train, y_train.values.ravel())\n",
    "if gridsearch:\n",
    "    print(brf.best_params_)\n",
    "\n",
    "y_pred_brf = brf.predict(X_test)\n",
    "print(classification_report(y_test, y_pred_brf))"
   ]
  },
  {
   "cell_type": "markdown",
   "metadata": {},
   "source": [
    "# Gradient Boosting"
   ]
  },
  {
   "cell_type": "code",
   "execution_count": 127,
   "metadata": {
    "pycharm": {
     "name": "#%%\n"
    }
   },
   "outputs": [
    {
     "name": "stdout",
     "output_type": "stream",
     "text": [
      "              precision    recall  f1-score   support\n",
      "\n",
      "           0       1.00      1.00      1.00     93838\n",
      "           1       0.71      0.81      0.76       149\n",
      "\n",
      "    accuracy                           1.00     93987\n",
      "   macro avg       0.85      0.91      0.88     93987\n",
      "weighted avg       1.00      1.00      1.00     93987\n",
      "\n"
     ]
    }
   ],
   "source": [
    "if gridsearch:\n",
    "    parameters_gb = {'n_estimators': (2,3), # , 20, 100\n",
    "                     'max_depth': (50, 100), # 10, 50, 200\n",
    "                     'learning_rate': (0.1, 0.2), # 0.1, 0.5, 1\n",
    "                     }\n",
    "    gb = GridSearchCV(\n",
    "        GradientBoostingClassifier(random_state=42, loss='deviance'),\n",
    "        parameters_gb,\n",
    "        n_jobs=-1,\n",
    "        scoring='f1',\n",
    "        verbose=2,\n",
    "        cv=2\n",
    "        )\n",
    "else:\n",
    "    gb = GradientBoostingClassifier(random_state=42,\n",
    "                                    loss='deviance',\n",
    "                                    n_estimators=5, # 2\n",
    "                                    max_depth=50, # 50\n",
    "                                    learning_rate=0.1) # 0.1\n",
    "\n",
    "gb.fit(X_train, y_train.values.ravel())\n",
    "if gridsearch:\n",
    "    print(gb.best_params_)\n",
    "\n",
    "y_pred_gb = gb.predict(X_test)\n",
    "print(classification_report(y_test, y_pred_gb))"
   ]
  },
  {
   "cell_type": "markdown",
   "source": [
    "# XGBoost"
   ],
   "metadata": {
    "collapsed": false,
    "pycharm": {
     "name": "#%% md\n"
    }
   }
  },
  {
   "cell_type": "code",
   "execution_count": 135,
   "outputs": [
    {
     "name": "stderr",
     "output_type": "stream",
     "text": [
      "c:\\users\\janfd\\appdata\\local\\programs\\python\\python37\\lib\\site-packages\\xgboost\\sklearn.py:1224: UserWarning: The use of label encoder in XGBClassifier is deprecated and will be removed in a future release. To remove this warning, do the following: 1) Pass option use_label_encoder=False when constructing XGBClassifier object; and 2) Encode your labels (y) as integers starting with 0, i.e. 0, 1, 2, ..., [num_class - 1].\n",
      "  warnings.warn(label_encoder_deprecation_msg, UserWarning)\n"
     ]
    },
    {
     "name": "stdout",
     "output_type": "stream",
     "text": [
      "[20:19:18] WARNING: C:/Users/Administrator/workspace/xgboost-win64_release_1.5.1/src/learner.cc:1115: Starting in XGBoost 1.3.0, the default evaluation metric used with the objective 'binary:logistic' was changed from 'error' to 'logloss'. Explicitly set eval_metric if you'd like to restore the old behavior.\n",
      "              precision    recall  f1-score   support\n",
      "\n",
      "           0       1.00      1.00      1.00     93838\n",
      "           1       0.96      0.83      0.89       149\n",
      "\n",
      "    accuracy                           1.00     93987\n",
      "   macro avg       0.98      0.92      0.95     93987\n",
      "weighted avg       1.00      1.00      1.00     93987\n",
      "\n"
     ]
    }
   ],
   "source": [
    "if gridsearch:\n",
    "    parameters_xgb = {'n_estimators': (5, 20, 100), # 5, 20, 100\n",
    "                     'max_depth': (10, 50, 200), # 10, 50, 200\n",
    "                     'learning_rate': (0.1, 0.5, 1), # 0.1, 0.5, 1\n",
    "                     }\n",
    "    xgbc = GridSearchCV(\n",
    "        xgb.sklearn.XGBClassifier(objective=\"binary:logistic\", random_state=42),\n",
    "        parameters_xgb,\n",
    "        n_jobs=-1,\n",
    "        scoring='f1',\n",
    "        verbose=2,\n",
    "        cv=2\n",
    "        )\n",
    "else:\n",
    "    xgbc = xgb.sklearn.XGBClassifier(random_state=42,\n",
    "                                     objective=\"binary:logistic\",\n",
    "                                     n_estimators=100, # 100\n",
    "                                     max_depth=50, # 50\n",
    "                                     learning_rate=0.5,) # 0.5\n",
    "\n",
    "xgbc.fit(X_train, y_train.values.ravel())\n",
    "if gridsearch:\n",
    "    print(xgbc.best_params_)\n",
    "\n",
    "y_pred_xgb = xgbc.predict(X_test)\n",
    "print(classification_report(y_test, y_pred_xgb))"
   ],
   "metadata": {
    "collapsed": false,
    "pycharm": {
     "name": "#%%\n"
    }
   }
  }
 ],
 "metadata": {
  "kernelspec": {
   "display_name": "Python 3",
   "language": "python",
   "name": "python3"
  },
  "language_info": {
   "codemirror_mode": {
    "name": "ipython",
    "version": 3
   },
   "file_extension": ".py",
   "mimetype": "text/x-python",
   "name": "python",
   "nbconvert_exporter": "python",
   "pygments_lexer": "ipython3",
   "version": "3.7.5"
  }
 },
 "nbformat": 4,
 "nbformat_minor": 1
}